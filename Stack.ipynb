{
 "cells": [
  {
   "cell_type": "code",
   "execution_count": 17,
   "id": "a0ca79d2",
   "metadata": {},
   "outputs": [],
   "source": [
    "class Stack:\n",
    "    def __init__(self,limit):\n",
    "        self.limit = limit\n",
    "        self.elements = []\n",
    "        \n",
    "    def push(self,number):\n",
    "        if len(self.elements)== self.limit:\n",
    "            print('stack is full')\n",
    "        else:\n",
    "            self.elements.append(number)\n",
    "            \n",
    "    def pop(self):\n",
    "        if len(self.elements)==0:\n",
    "            print('The stack is empty')\n",
    "        else:\n",
    "            print(f'removing {self.elements[-1]} from the stack')\n",
    "            self.elements.pop()\n",
    "            \n",
    "    def peek(self):\n",
    "        if len(self.elements)==0:\n",
    "            print('The stack is empty')\n",
    "        else:\n",
    "            return self.elements[-1]\n",
    "    \n",
    "    def isEmpty(self):\n",
    "        if len(self.elements)== 0:\n",
    "            return True\n",
    "        else:\n",
    "            return False\n",
    "        \n",
    "    def isFull(self):\n",
    "        if len(self.elements)==self.limit:\n",
    "            return True\n",
    "        else:\n",
    "            return False\n",
    "        \n",
    "    def delete(self):\n",
    "        self.elements=[]\n",
    "        \n",
    "    def print_stack(self):\n",
    "        print('\\n---------------- Current stack values ------------------\\n')\n",
    "        for item in self.elements:\n",
    "            print(item,end=' ')\n",
    "        \n",
    "            \n",
    "    \n",
    "            \n",
    "    \n",
    "            \n",
    "        "
   ]
  },
  {
   "cell_type": "code",
   "execution_count": 4,
   "id": "59e202dd",
   "metadata": {},
   "outputs": [],
   "source": [
    "stack1 = Stack()"
   ]
  },
  {
   "cell_type": "code",
   "execution_count": 44,
   "id": "83996d8e",
   "metadata": {},
   "outputs": [],
   "source": [
    "stack1.push(5)"
   ]
  },
  {
   "cell_type": "code",
   "execution_count": 45,
   "id": "385ac41c",
   "metadata": {
    "scrolled": true
   },
   "outputs": [
    {
     "name": "stdout",
     "output_type": "stream",
     "text": [
      "\n",
      "---------------- Current stack values ------------------\n",
      "\n",
      "[1, 2, 3, 4] 5 "
     ]
    }
   ],
   "source": [
    "stack1.print_stack()"
   ]
  },
  {
   "cell_type": "code",
   "execution_count": null,
   "id": "677a1fb4",
   "metadata": {},
   "outputs": [],
   "source": [
    "problem: \n",
    "    Blanced : [{()}], {([])}, {ait nsdsd(dsjdhsd{[sdkjsd]})}, {a[(b)c]}\n",
    "    Unbalanced: }{ ,   {[()}, ('safdfg\", (}){\n",
    "                               \n",
    "\n",
    "solution:\n",
    "        \n",
    "stack : \n",
    "                               \n",
    "            "
   ]
  },
  {
   "cell_type": "code",
   "execution_count": null,
   "id": "f6003fb8",
   "metadata": {},
   "outputs": [],
   "source": [
    "step1: read the input text\n",
    "step2: Create a stack\n",
    "step3: loop the text char by char:\n",
    "        if it is a opening paranthesis:\n",
    "            push it to the stack:\n",
    "        elif it is a closing pararenthesis:\n",
    "            check the top element whether it is same opening paranthesis:\n",
    "                if yes:\n",
    "                    pop\n",
    "                else:\n",
    "                    return unbalanced\n",
    "\n",
    "step4: whether the stack is empty:\n",
    "            balanced\n",
    "        else:\n",
    "            unbalanced\n",
    "            \n",
    "            \n",
    "input:}{\n",
    "    \n",
    "stack:  \n",
    "        "
   ]
  },
  {
   "cell_type": "code",
   "execution_count": null,
   "id": "1a79f75a",
   "metadata": {},
   "outputs": [],
   "source": []
  },
  {
   "cell_type": "code",
   "execution_count": 24,
   "id": "ee40566a",
   "metadata": {},
   "outputs": [],
   "source": [
    "def balance_text(text):\n",
    "    newstack = Stack(len(text))\n",
    "    \n",
    "    balance_dict = {'}':'{',')':'(',']':'['}\n",
    "    for char in text:\n",
    "        if char in ('(','{','['):\n",
    "            newstack.push(char)\n",
    "        elif char in (')','}',']'):  \n",
    "            if newstack.peek() == balance_dict.get(char):\n",
    "                newstack.pop()\n",
    "            else:\n",
    "                return False\n",
    "    if newstack.isEmpty():\n",
    "        return True\n",
    "    else:\n",
    "        return False\n",
    "                    "
   ]
  },
  {
   "cell_type": "code",
   "execution_count": 29,
   "id": "eba0cfc8",
   "metadata": {},
   "outputs": [
    {
     "name": "stdout",
     "output_type": "stream",
     "text": [
      "The stack is empty\n"
     ]
    },
    {
     "data": {
      "text/plain": [
       "False"
      ]
     },
     "execution_count": 29,
     "metadata": {},
     "output_type": "execute_result"
    }
   ],
   "source": [
    "balance_text('][]')"
   ]
  },
  {
   "cell_type": "code",
   "execution_count": 22,
   "id": "7bdee172",
   "metadata": {},
   "outputs": [],
   "source": [
    "def balance(text):\n",
    "    a=len(text)\n",
    "    st=Stack(a)\n",
    "    for i in range(len(text)):\n",
    "        if text[i]==\"(\"or text[i]==\"[\" or text[i]==\"{\":\n",
    "            st.push(text[i])\n",
    "        elif text[i]==\")\"or text[i]==\"]\" or text[i]==\"}\":\n",
    "            if text[i]==\")\":\n",
    "                if st.peek()==\"(\":\n",
    "                    st.pop()\n",
    "            elif text[i]==\"]\":\n",
    "                if st.peek()==\"[\":\n",
    "                    st.pop()\n",
    "            elif text[i]==\"}\":\n",
    "                if st.peek()==\"{\":\n",
    "                    st.pop()\n",
    "    if st.isEmpty():\n",
    "        print(\"blanced\")\n",
    "    else:\n",
    "        print(\"unbalanced\")\n",
    "        \n",
    "    print(st.isEmpty())"
   ]
  },
  {
   "cell_type": "code",
   "execution_count": 23,
   "id": "1a198973",
   "metadata": {},
   "outputs": [
    {
     "name": "stdout",
     "output_type": "stream",
     "text": [
      "removing ( from the stack\n",
      "blanced\n",
      "True\n"
     ]
    }
   ],
   "source": [
    "balance('()')"
   ]
  },
  {
   "cell_type": "code",
   "execution_count": null,
   "id": "0cdb7d93",
   "metadata": {},
   "outputs": [],
   "source": []
  }
 ],
 "metadata": {
  "kernelspec": {
   "display_name": "Python 3 (ipykernel)",
   "language": "python",
   "name": "python3"
  },
  "language_info": {
   "codemirror_mode": {
    "name": "ipython",
    "version": 3
   },
   "file_extension": ".py",
   "mimetype": "text/x-python",
   "name": "python",
   "nbconvert_exporter": "python",
   "pygments_lexer": "ipython3",
   "version": "3.7.8"
  }
 },
 "nbformat": 4,
 "nbformat_minor": 5
}
