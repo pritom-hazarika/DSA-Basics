{
 "cells": [
  {
   "cell_type": "markdown",
   "id": "27d2d81a",
   "metadata": {},
   "source": [
    "# Linked list"
   ]
  },
  {
   "cell_type": "markdown",
   "id": "4dfad54f",
   "metadata": {},
   "source": [
    "### Node"
   ]
  },
  {
   "cell_type": "code",
   "execution_count": null,
   "id": "62c5994c",
   "metadata": {},
   "outputs": [],
   "source": [
    "Node:\n",
    "    data,\n",
    "    refe\n",
    "    \n",
    "linked   \n",
    "{Node} \n",
    "\n",
    "{properties of the linked list that will govern. \n",
    "        the\n",
    "       behaviour of the node}- LL\n",
    "\n",
    "{properties of the linked list that will govern. \n",
    "        the\n",
    "       behaviour of the node} -graph\n"
   ]
  },
  {
   "cell_type": "markdown",
   "id": "56d01374",
   "metadata": {},
   "source": [
    "- Data,pointer. "
   ]
  },
  {
   "cell_type": "code",
   "execution_count": null,
   "id": "0296d6e2",
   "metadata": {},
   "outputs": [],
   "source": [
    "fix lenth  - dynamic \n",
    "\n",
    "\n",
    "insert/ delete somthing from the array we need to shift the \n",
    "elements\n",
    "in the array\n",
    "\n",
    "\n",
    "but\n",
    " in Linked list we don't need to shift anything whenever\n",
    "    we add or delete something from the list\n",
    "    \n"
   ]
  },
  {
   "cell_type": "code",
   "execution_count": 3,
   "id": "3cb01f4a",
   "metadata": {},
   "outputs": [],
   "source": [
    "class Node:\n",
    "    def __init__(self,data):\n",
    "        self.value = data\n",
    "        self.next = None      \n",
    "        \n"
   ]
  },
  {
   "cell_type": "code",
   "execution_count": 9,
   "id": "eb85ba26",
   "metadata": {},
   "outputs": [],
   "source": [
    "class Linked_list:\n",
    "    def __init__(self):\n",
    "        self.head = None\n",
    "    \n",
    "    def insert_begin(self,data):\n",
    "        if self.head is None:\n",
    "            #empty\n",
    "            self.head = Node(data)\n",
    "        else:\n",
    "            new_node = Node(data)\n",
    "            new_node.next = self.head\n",
    "            self.head = new_node\n",
    "            \n",
    "    def display(self):\n",
    "        if self.head is None:\n",
    "            print('Head -> None')\n",
    "            \n",
    "        else:\n",
    "            print('Head ->',end=' ')\n",
    "            current_node = self.head\n",
    "            while current_node is not None:\n",
    "                print(f\"{current_node.value} ->\",end=' ')\n",
    "                current_node = current_node.next\n",
    "            print('None')\n",
    "        "
   ]
  },
  {
   "cell_type": "code",
   "execution_count": 10,
   "id": "e7e2e3d0",
   "metadata": {},
   "outputs": [],
   "source": [
    "LL = Linked_list()"
   ]
  },
  {
   "cell_type": "code",
   "execution_count": 11,
   "id": "f0d7273a",
   "metadata": {},
   "outputs": [
    {
     "name": "stdout",
     "output_type": "stream",
     "text": [
      "Head -> None\n"
     ]
    }
   ],
   "source": [
    "LL.display()"
   ]
  },
  {
   "cell_type": "code",
   "execution_count": 12,
   "id": "689f707e",
   "metadata": {},
   "outputs": [],
   "source": [
    "LL.insert_begin(5)"
   ]
  },
  {
   "cell_type": "code",
   "execution_count": 13,
   "id": "a90afbed",
   "metadata": {},
   "outputs": [
    {
     "name": "stdout",
     "output_type": "stream",
     "text": [
      "Head -> 5 -> None\n"
     ]
    }
   ],
   "source": [
    "LL.display()"
   ]
  },
  {
   "cell_type": "code",
   "execution_count": 14,
   "id": "57d77863",
   "metadata": {},
   "outputs": [],
   "source": [
    "LL.insert_begin(2)"
   ]
  },
  {
   "cell_type": "code",
   "execution_count": 15,
   "id": "69a41b57",
   "metadata": {},
   "outputs": [
    {
     "name": "stdout",
     "output_type": "stream",
     "text": [
      "Head -> 2 -> 5 -> None\n"
     ]
    }
   ],
   "source": [
    "LL.display()"
   ]
  },
  {
   "cell_type": "code",
   "execution_count": null,
   "id": "985fc606",
   "metadata": {},
   "outputs": [],
   "source": []
  }
 ],
 "metadata": {
  "kernelspec": {
   "display_name": "Python 3 (ipykernel)",
   "language": "python",
   "name": "python3"
  },
  "language_info": {
   "codemirror_mode": {
    "name": "ipython",
    "version": 3
   },
   "file_extension": ".py",
   "mimetype": "text/x-python",
   "name": "python",
   "nbconvert_exporter": "python",
   "pygments_lexer": "ipython3",
   "version": "3.7.8"
  }
 },
 "nbformat": 4,
 "nbformat_minor": 5
}
