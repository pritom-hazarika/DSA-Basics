{
 "cells": [
  {
   "cell_type": "code",
   "execution_count": null,
   "id": "9177674a",
   "metadata": {},
   "outputs": [],
   "source": [
    "Array: It is a list of finite number n of homogeneous data elemets."
   ]
  },
  {
   "cell_type": "code",
   "execution_count": null,
   "id": "6e8405f3",
   "metadata": {},
   "outputs": [],
   "source": [
    "array = [1,5,3,9,11] array[0]=1,array[1]=5"
   ]
  },
  {
   "cell_type": "code",
   "execution_count": null,
   "id": "029684f8",
   "metadata": {},
   "outputs": [],
   "source": [
    "array limit 5\n",
    "[1,2,3,4,5]   size =5"
   ]
  },
  {
   "cell_type": "code",
   "execution_count": null,
   "id": "d6efb3a0",
   "metadata": {},
   "outputs": [],
   "source": [
    "add,remove,search,sort"
   ]
  },
  {
   "cell_type": "code",
   "execution_count": 22,
   "id": "54cf8500",
   "metadata": {},
   "outputs": [],
   "source": [
    "class Array:\n",
    "    def __init__(self,limit):\n",
    "        self.limit = limit\n",
    "        self.size = 0\n",
    "        self.elements = []\n",
    "        \n",
    "    def add_item(self,number):\n",
    "        if self.size<self.limit: #checking whether there is a space for new element\n",
    "            if self.size!=0: #is it the first element\n",
    "                if type(self.elements[0]) == type(number): #if the new element is of same data type\n",
    "                    self.elements.append(number) #adding element at the end\n",
    "                    self.size+=1 #increasing the size\n",
    "                else:\n",
    "                    print('elements are not homogeneous')\n",
    "            else:\n",
    "                self.elements.append(number) #adding element at the end\n",
    "                self.size+=1 #increasing the size\n",
    "        else:\n",
    "            print('There is no space for new element')\n",
    "            \n",
    "    def print_array(self):\n",
    "        print('\\n----------------current array----------------\\n')\n",
    "        for element in self.elements:\n",
    "            print(element,end=' ')\n",
    "            \n",
    "    def delete_at_index(self,index):\n",
    "        if index+1>self.size: # whether the index provided is present in the array or not\n",
    "            print('Index is not present in the array')\n",
    "        else:\n",
    "            if index<self.size-1:\n",
    "                for index_num in range(index,self.size-1):\n",
    "                    self.elements[index_num]=self.elements[index_num+1]\n",
    "                del self.elements[index_num+1]\n",
    "                self.size-=1\n",
    "            else:\n",
    "                self.elements[index]\n",
    "                self.size -=1\n",
    "        \n",
    "        "
   ]
  },
  {
   "cell_type": "code",
   "execution_count": 23,
   "id": "b7ba94db",
   "metadata": {},
   "outputs": [],
   "source": [
    "array1 = Array(5)"
   ]
  },
  {
   "cell_type": "code",
   "execution_count": 24,
   "id": "bb52b5e5",
   "metadata": {},
   "outputs": [
    {
     "name": "stdout",
     "output_type": "stream",
     "text": [
      "\n",
      "----------------current array----------------\n",
      "\n"
     ]
    }
   ],
   "source": [
    "array1.print_array()"
   ]
  },
  {
   "cell_type": "code",
   "execution_count": 29,
   "id": "4af3e2ae",
   "metadata": {},
   "outputs": [
    {
     "name": "stdout",
     "output_type": "stream",
     "text": [
      "elements are not homogeneous\n"
     ]
    }
   ],
   "source": [
    "array1.add_item('Pritom')"
   ]
  },
  {
   "cell_type": "code",
   "execution_count": 30,
   "id": "3256b57b",
   "metadata": {},
   "outputs": [
    {
     "name": "stdout",
     "output_type": "stream",
     "text": [
      "\n",
      "----------------current array----------------\n",
      "\n",
      "5 6 "
     ]
    }
   ],
   "source": [
    "array1.print_array()"
   ]
  },
  {
   "cell_type": "code",
   "execution_count": null,
   "id": "2ac4b38b",
   "metadata": {},
   "outputs": [],
   "source": [
    "[1,2,4,5]"
   ]
  }
 ],
 "metadata": {
  "kernelspec": {
   "display_name": "Python 3 (ipykernel)",
   "language": "python",
   "name": "python3"
  },
  "language_info": {
   "codemirror_mode": {
    "name": "ipython",
    "version": 3
   },
   "file_extension": ".py",
   "mimetype": "text/x-python",
   "name": "python",
   "nbconvert_exporter": "python",
   "pygments_lexer": "ipython3",
   "version": "3.7.8"
  }
 },
 "nbformat": 4,
 "nbformat_minor": 5
}
