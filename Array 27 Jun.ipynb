{
 "cells": [
  {
   "cell_type": "code",
   "execution_count": null,
   "id": "445b4dec",
   "metadata": {},
   "outputs": [],
   "source": [
    "Primitive.  Non primitive\n",
    "\n",
    "primitive - int, bool,string,float\n",
    "\n",
    "none primitive - array,stacks,queues, link list,tree,graph"
   ]
  },
  {
   "cell_type": "code",
   "execution_count": null,
   "id": "151933d7",
   "metadata": {},
   "outputs": [],
   "source": [
    "linear and none linear\n",
    "\n",
    "\n",
    "list = [1,2,3,4,5,6]"
   ]
  },
  {
   "cell_type": "code",
   "execution_count": 3,
   "id": "3e12404a",
   "metadata": {},
   "outputs": [
    {
     "data": {
      "text/plain": [
       "0"
      ]
     },
     "execution_count": 3,
     "metadata": {},
     "output_type": "execute_result"
    }
   ],
   "source": [
    "len(a)"
   ]
  },
  {
   "cell_type": "code",
   "execution_count": null,
   "id": "8a7d1b9f",
   "metadata": {},
   "outputs": [],
   "source": [
    "take water\n",
    "light the stove\n",
    "boil water\n",
    "add tea\n",
    "add suger\n"
   ]
  },
  {
   "cell_type": "code",
   "execution_count": null,
   "id": "6a365402",
   "metadata": {},
   "outputs": [],
   "source": [
    "[1][3][4][5]"
   ]
  },
  {
   "cell_type": "code",
   "execution_count": 26,
   "id": "1e19bdd6",
   "metadata": {},
   "outputs": [],
   "source": [
    "class Array:\n",
    "    def __init__(self,lenth):\n",
    "        self.maxlenth = lenth\n",
    "        self.lists = []\n",
    "        self.size = 0\n",
    "     \n",
    "    def appendlist(self,value):\n",
    "        if self.size<self.maxlenth:\n",
    "            if self.size!=0:\n",
    "                if type(value)== type(self.lists[0]):\n",
    "                    self.lists.append(value)\n",
    "                    self.size+=1\n",
    "                else:\n",
    "                    print('Data type not matching!') \n",
    "            else:\n",
    "                self.lists.append(value)\n",
    "                self.size+=1\n",
    "        else:\n",
    "            print('Array Overflow!')\n",
    "            \n",
    "    def delete_index(self,index):\n",
    "        if index+1>self.size:\n",
    "            print('Index not present in the array')\n",
    "        else:\n",
    "            if index<self.size-1:\n",
    "                for index_num in range(index,self.size-1):\n",
    "                    self.lists[index_num]=self.lists[index_num+1]\n",
    "                del self.lists[index_num+1]\n",
    "                self.size-=1\n",
    "            else:\n",
    "                del self.lists[index]\n",
    "                self.size-=1\n",
    "            \n",
    "    def print_array(self):\n",
    "        print(self.lists)\n",
    "            \n",
    "    \n",
    "        \n",
    "    "
   ]
  },
  {
   "cell_type": "code",
   "execution_count": 27,
   "id": "ffe7c923",
   "metadata": {},
   "outputs": [],
   "source": [
    "first_array = Array(5)"
   ]
  },
  {
   "cell_type": "code",
   "execution_count": 34,
   "id": "b0cdfd3a",
   "metadata": {},
   "outputs": [
    {
     "name": "stdout",
     "output_type": "stream",
     "text": [
      "[200, 1004]\n"
     ]
    }
   ],
   "source": [
    "first_array.print_array()"
   ]
  },
  {
   "cell_type": "code",
   "execution_count": 31,
   "id": "dc004718",
   "metadata": {},
   "outputs": [],
   "source": [
    "first_array.appendlist(1004)"
   ]
  },
  {
   "cell_type": "code",
   "execution_count": 33,
   "id": "8c68e431",
   "metadata": {},
   "outputs": [],
   "source": [
    "first_array.delete_index(1)"
   ]
  },
  {
   "cell_type": "code",
   "execution_count": null,
   "id": "7630364e",
   "metadata": {},
   "outputs": [],
   "source": []
  }
 ],
 "metadata": {
  "kernelspec": {
   "display_name": "Python 3 (ipykernel)",
   "language": "python",
   "name": "python3"
  },
  "language_info": {
   "codemirror_mode": {
    "name": "ipython",
    "version": 3
   },
   "file_extension": ".py",
   "mimetype": "text/x-python",
   "name": "python",
   "nbconvert_exporter": "python",
   "pygments_lexer": "ipython3",
   "version": "3.7.8"
  }
 },
 "nbformat": 4,
 "nbformat_minor": 5
}
