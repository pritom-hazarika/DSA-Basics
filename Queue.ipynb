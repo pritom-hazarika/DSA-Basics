{
 "cells": [
  {
   "cell_type": "code",
   "execution_count": 41,
   "id": "58cf9ee7",
   "metadata": {},
   "outputs": [],
   "source": [
    "class Queue:\n",
    "    def __init__(self):\n",
    "        self.elements = []\n",
    "        \n",
    "    def enqueue(self,number):\n",
    "        self.elements.append(number)\n",
    "        return f'{number} entered to the Queue'\n",
    "    \n",
    "    def dequeue(self):\n",
    "        if len(self.elements)!=0:\n",
    "            self.elements.pop()\n",
    "        else:\n",
    "            return f'Queue is Empty!'\n",
    "        \n",
    "    def peek(self):\n",
    "        if len(self.elements)!=0:\n",
    "            return self.elements[0]\n",
    "        else:\n",
    "            return f'Queue is Empty!'\n",
    "        \n",
    "    def printQueue(self):\n",
    "        for i in self.elements:\n",
    "            print(i,end=\" \")\n",
    "            \n",
    "    def length(self):\n",
    "        return len(self.elements)\n",
    "    \n",
    "    def isEmpty(self):\n",
    "        if len(self.elements)== 0:\n",
    "            return True\n",
    "        else:\n",
    "            return False\n",
    "        \n",
    "    \n",
    "    def delete(self):\n",
    "        self.elements = []\n",
    "    \n",
    "    \n",
    "        "
   ]
  },
  {
   "cell_type": "code",
   "execution_count": 42,
   "id": "b598218f",
   "metadata": {},
   "outputs": [],
   "source": [
    "newQueue = Queue()"
   ]
  },
  {
   "cell_type": "code",
   "execution_count": 45,
   "id": "f6709860",
   "metadata": {},
   "outputs": [
    {
     "data": {
      "text/plain": [
       "'6 entered to the Queue'"
      ]
     },
     "execution_count": 45,
     "metadata": {},
     "output_type": "execute_result"
    }
   ],
   "source": [
    "newQueue.enqueue(6)"
   ]
  },
  {
   "cell_type": "code",
   "execution_count": 51,
   "id": "b76e696c",
   "metadata": {},
   "outputs": [
    {
     "data": {
      "text/plain": [
       "'Queue is Empty!'"
      ]
     },
     "execution_count": 51,
     "metadata": {},
     "output_type": "execute_result"
    }
   ],
   "source": [
    "newQueue.peek()"
   ]
  },
  {
   "cell_type": "code",
   "execution_count": 36,
   "id": "1679d030",
   "metadata": {},
   "outputs": [
    {
     "data": {
      "text/plain": [
       "'Queue is Empty!'"
      ]
     },
     "execution_count": 36,
     "metadata": {},
     "output_type": "execute_result"
    }
   ],
   "source": [
    "newQueue.dequeue()"
   ]
  },
  {
   "cell_type": "code",
   "execution_count": 52,
   "id": "5262068d",
   "metadata": {},
   "outputs": [],
   "source": [
    "newQueue.printQueue()"
   ]
  },
  {
   "cell_type": "code",
   "execution_count": 50,
   "id": "f6a4b9a0",
   "metadata": {},
   "outputs": [
    {
     "data": {
      "text/plain": [
       "0"
      ]
     },
     "execution_count": 50,
     "metadata": {},
     "output_type": "execute_result"
    }
   ],
   "source": [
    "newQueue.length()"
   ]
  },
  {
   "cell_type": "code",
   "execution_count": 49,
   "id": "1b0e672a",
   "metadata": {},
   "outputs": [],
   "source": [
    "newQueue.delete()"
   ]
  },
  {
   "cell_type": "code",
   "execution_count": null,
   "id": "e1f839e3",
   "metadata": {},
   "outputs": [],
   "source": []
  }
 ],
 "metadata": {
  "kernelspec": {
   "display_name": "Python 3 (ipykernel)",
   "language": "python",
   "name": "python3"
  },
  "language_info": {
   "codemirror_mode": {
    "name": "ipython",
    "version": 3
   },
   "file_extension": ".py",
   "mimetype": "text/x-python",
   "name": "python",
   "nbconvert_exporter": "python",
   "pygments_lexer": "ipython3",
   "version": "3.7.8"
  }
 },
 "nbformat": 4,
 "nbformat_minor": 5
}
