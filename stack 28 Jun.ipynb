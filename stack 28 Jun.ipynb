{
 "cells": [
  {
   "cell_type": "code",
   "execution_count": null,
   "id": "38e70d50",
   "metadata": {},
   "outputs": [],
   "source": [
    "[8][2][3][4][1][5][7][2][1]  arr[4]=1"
   ]
  },
  {
   "cell_type": "code",
   "execution_count": 4,
   "id": "28f3c598",
   "metadata": {},
   "outputs": [
    {
     "ename": "IndexError",
     "evalue": "pop from empty list",
     "output_type": "error",
     "traceback": [
      "\u001b[0;31m---------------------------------------------------------------------------\u001b[0m",
      "\u001b[0;31mIndexError\u001b[0m                                Traceback (most recent call last)",
      "\u001b[0;32m/var/folders/9l/2pcvgz8942bck04ybrskmgkc0000gn/T/ipykernel_66758/1108632805.py\u001b[0m in \u001b[0;36m<module>\u001b[0;34m\u001b[0m\n\u001b[1;32m      1\u001b[0m \u001b[0ma\u001b[0m \u001b[0;34m=\u001b[0m \u001b[0;34m[\u001b[0m\u001b[0;34m]\u001b[0m\u001b[0;34m\u001b[0m\u001b[0;34m\u001b[0m\u001b[0m\n\u001b[0;32m----> 2\u001b[0;31m \u001b[0mpoped\u001b[0m \u001b[0;34m=\u001b[0m \u001b[0ma\u001b[0m\u001b[0;34m.\u001b[0m\u001b[0mpop\u001b[0m\u001b[0;34m(\u001b[0m\u001b[0;34m)\u001b[0m\u001b[0;34m\u001b[0m\u001b[0;34m\u001b[0m\u001b[0m\n\u001b[0m",
      "\u001b[0;31mIndexError\u001b[0m: pop from empty list"
     ]
    }
   ],
   "source": [
    "a = []\n",
    "poped = a.pop()"
   ]
  },
  {
   "cell_type": "code",
   "execution_count": 2,
   "id": "89d4917f",
   "metadata": {},
   "outputs": [
    {
     "data": {
      "text/plain": [
       "4"
      ]
     },
     "execution_count": 2,
     "metadata": {},
     "output_type": "execute_result"
    }
   ],
   "source": [
    "poped"
   ]
  },
  {
   "cell_type": "code",
   "execution_count": 3,
   "id": "8b8af7ef",
   "metadata": {},
   "outputs": [
    {
     "data": {
      "text/plain": [
       "[1, 2, 3]"
      ]
     },
     "execution_count": 3,
     "metadata": {},
     "output_type": "execute_result"
    }
   ],
   "source": [
    "obj.method()"
   ]
  },
  {
   "cell_type": "code",
   "execution_count": 6,
   "id": "d0de7be1",
   "metadata": {},
   "outputs": [],
   "source": [
    "class Stack:\n",
    "    def __init__(self,limit):\n",
    "        self.limit = limit\n",
    "        self.elements = []\n",
    "        \n",
    "    def _push(self,data):\n",
    "        if self._isFull():\n",
    "            print('Stack is Full')\n",
    "        else:\n",
    "            self.elements.append(data)\n",
    "            \n",
    "    def _pop(self):\n",
    "        if self._isEmpty():\n",
    "            print('Stack is Empty')\n",
    "        else:\n",
    "            poped = self.elements.pop()\n",
    "            print(f'Element poped = {poped}')\n",
    "        \n",
    "    def _isEmpty(self):\n",
    "        if len(self.elements)==0:\n",
    "            return True\n",
    "        else:\n",
    "            return False\n",
    "            \n",
    "    def _isFull(self):\n",
    "        if len(self.elements)== self.limit:\n",
    "            return True\n",
    "        else:\n",
    "            return False\n",
    "        \n",
    "    def print_stack(self):\n",
    "        print(self.elements)\n",
    "        \n",
    "        \n",
    "        "
   ]
  },
  {
   "cell_type": "code",
   "execution_count": 7,
   "id": "1b817148",
   "metadata": {},
   "outputs": [],
   "source": [
    "Stack1 = Stack(5)"
   ]
  },
  {
   "cell_type": "code",
   "execution_count": 35,
   "id": "53a2a4d0",
   "metadata": {},
   "outputs": [
    {
     "name": "stdout",
     "output_type": "stream",
     "text": [
      "Stack is Empty\n"
     ]
    }
   ],
   "source": [
    "Stack1._pop()"
   ]
  },
  {
   "cell_type": "code",
   "execution_count": 34,
   "id": "abe9900e",
   "metadata": {},
   "outputs": [
    {
     "name": "stdout",
     "output_type": "stream",
     "text": [
      "[]\n"
     ]
    }
   ],
   "source": [
    "Stack1.print_stack()"
   ]
  },
  {
   "cell_type": "code",
   "execution_count": 36,
   "id": "9a74a48d",
   "metadata": {},
   "outputs": [
    {
     "ename": "SyntaxError",
     "evalue": "invalid syntax (3257905712.py, line 1)",
     "output_type": "error",
     "traceback": [
      "\u001b[0;36m  File \u001b[0;32m\"/var/folders/9l/2pcvgz8942bck04ybrskmgkc0000gn/T/ipykernel_66758/3257905712.py\"\u001b[0;36m, line \u001b[0;32m1\u001b[0m\n\u001b[0;31m    problem:\u001b[0m\n\u001b[0m             ^\u001b[0m\n\u001b[0;31mSyntaxError\u001b[0m\u001b[0;31m:\u001b[0m invalid syntax\n"
     ]
    }
   ],
   "source": [
    "problem: \n",
    "    Blanced : [{()}], {([])}, {ait nsdsd(dsjdhsd{[sdkjsd]})}, {a[(b)c]}\n",
    "    Unbalanced: }{ ,   {[()}, (safdfg, (}){"
   ]
  },
  {
   "cell_type": "code",
   "execution_count": null,
   "id": "60bb5de7",
   "metadata": {},
   "outputs": [],
   "source": [
    "'[{}sfsfs(){[adad]fsfs((ada))}]' '()'  [(])=>[()]"
   ]
  }
 ],
 "metadata": {
  "kernelspec": {
   "display_name": "Python 3 (ipykernel)",
   "language": "python",
   "name": "python3"
  },
  "language_info": {
   "codemirror_mode": {
    "name": "ipython",
    "version": 3
   },
   "file_extension": ".py",
   "mimetype": "text/x-python",
   "name": "python",
   "nbconvert_exporter": "python",
   "pygments_lexer": "ipython3",
   "version": "3.7.8"
  }
 },
 "nbformat": 4,
 "nbformat_minor": 5
}
